{
 "cells": [
  {
   "cell_type": "code",
   "execution_count": 1,
   "metadata": {
    "collapsed": true
   },
   "outputs": [],
   "source": [
    "import pandas as pd\n",
    "import numpy as np\n",
    "\n",
    "from sklearn.ensemble import RandomForestClassifier\n",
    "from sklearn.metrics import accuracy_score"
   ]
  },
  {
   "cell_type": "code",
   "execution_count": 2,
   "metadata": {
    "collapsed": true
   },
   "outputs": [],
   "source": [
    "# location of files might be different for you but all are avaiable from google drive\n",
    "# test.csv is given to us from kaggle, i use it to get the id's with missing data\n",
    "\n",
    "df_train = pd.read_csv('dataset/training.csv')\n",
    "df_test = pd.read_csv('dataset/testing.csv')\n",
    "df_test_order = pd.read_csv('test.csv')"
   ]
  },
  {
   "cell_type": "code",
   "execution_count": 3,
   "metadata": {},
   "outputs": [
    {
     "data": {
      "text/plain": [
       "((1984, 54), (4630, 53))"
      ]
     },
     "execution_count": 3,
     "metadata": {},
     "output_type": "execute_result"
    }
   ],
   "source": [
    "df_train.shape, df_test.shape"
   ]
  },
  {
   "cell_type": "code",
   "execution_count": 4,
   "metadata": {
    "collapsed": true
   },
   "outputs": [],
   "source": [
    "pd.options.display.max_columns = None\n",
    "pd.options.display.max_rows = None"
   ]
  },
  {
   "cell_type": "markdown",
   "metadata": {},
   "source": [
    "## Random Forest Example"
   ]
  },
  {
   "cell_type": "code",
   "execution_count": 5,
   "metadata": {},
   "outputs": [
    {
     "name": "stdout",
     "output_type": "stream",
     "text": [
      "training accuracy: 0.9954637096774194\n"
     ]
    }
   ],
   "source": [
    "# fit on training and predict on training\n",
    "\n",
    "# Set random seed\n",
    "np.random.seed(0)\n",
    "\n",
    "# Create a random forest Classifier. By convention, clf means 'Classifier'\n",
    "clf = RandomForestClassifier(random_state=0)\n",
    "\n",
    "X_train = df_train.drop(['outcome', 'bidder_id'], axis=1)\n",
    "y_train = df_train['outcome']\n",
    "\n",
    "\n",
    "clf.fit(X_train, y_train)\n",
    "\n",
    "# predict on training\n",
    "y_predict = clf.predict(X_train)\n",
    "print('training accuracy: {}'.format(accuracy_score(y_train, y_predict)))"
   ]
  },
  {
   "cell_type": "markdown",
   "metadata": {},
   "source": [
    "## Create Upload File"
   ]
  },
  {
   "cell_type": "code",
   "execution_count": 6,
   "metadata": {
    "collapsed": true
   },
   "outputs": [],
   "source": [
    "# save this to map prediction to bidder_id\n",
    "test_id = df_test['bidder_id']\n",
    "\n",
    "# create test feature matrix\n",
    "X_test = df_test.drop(['bidder_id'], axis=1)\n",
    "\n",
    "# predict on test feature matrix\n",
    "y_predict = clf.predict(X_test)\n",
    "\n",
    "# create dataframe with correct format and bidder_id in correct order\n",
    "df_submission = df_test_order[['bidder_id']].copy(deep=True)\n",
    "df_submission['prediction'] = 0\n",
    "\n",
    "# map prediction with the corresponding bidder_id\n",
    "result_map = {}\n",
    "\n",
    "for i in range(len(y_predict)):\n",
    "\n",
    "    result_map[test_id[i]] = y_predict[i]\n",
    "\n",
    "    \n",
    "# put predicted values with the corresponding bidder_id in predictions row\n",
    "for bidder_id in result_map:\n",
    "    \n",
    "    outcome = result_map[bidder_id]\n",
    "    \n",
    "    if outcome == 1:\n",
    "    \n",
    "        df_submission.loc[df_submission['bidder_id'] == bidder_id, 'prediction'] = outcome\n",
    "        \n",
    "df_submission.to_csv('predictions/submission.csv', index=None)"
   ]
  }
 ],
 "metadata": {
  "kernelspec": {
   "display_name": "Python [conda root]",
   "language": "python",
   "name": "conda-root-py"
  },
  "language_info": {
   "codemirror_mode": {
    "name": "ipython",
    "version": 3
   },
   "file_extension": ".py",
   "mimetype": "text/x-python",
   "name": "python",
   "nbconvert_exporter": "python",
   "pygments_lexer": "ipython3",
   "version": "3.6.1"
  }
 },
 "nbformat": 4,
 "nbformat_minor": 2
}
