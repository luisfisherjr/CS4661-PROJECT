{
 "cells": [
  {
   "cell_type": "code",
   "execution_count": 1,
   "metadata": {
    "collapsed": true
   },
   "outputs": [],
   "source": [
    "import pandas as pd\n",
    "import numpy as np\n",
    "\n",
    "from sklearn.ensemble import RandomForestClassifier\n",
    "from sklearn.metrics import accuracy_score"
   ]
  },
  {
   "cell_type": "code",
   "execution_count": 2,
   "metadata": {},
   "outputs": [],
   "source": [
    "df_train = pd.read_csv('dataset/training.csv')\n",
    "df_test = pd.read_csv('dataset/testing.csv')\n",
    "df_test_order = pd.read_csv('test.csv')"
   ]
  },
  {
   "cell_type": "code",
   "execution_count": 3,
   "metadata": {
    "collapsed": true
   },
   "outputs": [],
   "source": [
    "pd.options.display.max_columns = None\n",
    "pd.options.display.max_rows = None"
   ]
  },
  {
   "cell_type": "code",
   "execution_count": 4,
   "metadata": {},
   "outputs": [
    {
     "data": {
      "text/html": [
       "<div>\n",
       "<style>\n",
       "    .dataframe thead tr:only-child th {\n",
       "        text-align: right;\n",
       "    }\n",
       "\n",
       "    .dataframe thead th {\n",
       "        text-align: left;\n",
       "    }\n",
       "\n",
       "    .dataframe tbody tr th {\n",
       "        vertical-align: top;\n",
       "    }\n",
       "</style>\n",
       "<table border=\"1\" class=\"dataframe\">\n",
       "  <thead>\n",
       "    <tr style=\"text-align: right;\">\n",
       "      <th></th>\n",
       "      <th>bidder_id</th>\n",
       "      <th>time_delta_auction_bids_mean</th>\n",
       "      <th>time_delta_auction_bids_std</th>\n",
       "      <th>time_delta_auction_bids_min</th>\n",
       "      <th>time_delta_auction_bids_25%</th>\n",
       "      <th>time_delta_auction_bids_50%</th>\n",
       "      <th>time_delta_auction_bids_75%</th>\n",
       "      <th>time_delta_auction_bids_max</th>\n",
       "      <th>time_delta_bids_in_auction_median</th>\n",
       "      <th>time_delta_bids_in_auction_kurtosis</th>\n",
       "      <th>time_delta_user_bids_mean</th>\n",
       "      <th>time_delta_user_bids_std</th>\n",
       "      <th>time_delta_user_bids_min</th>\n",
       "      <th>time_delta_user_bids_25%</th>\n",
       "      <th>time_delta_user_bids_50%</th>\n",
       "      <th>time_delta_user_bids_75%</th>\n",
       "      <th>time_delta_user_bids_max</th>\n",
       "      <th>time_delta_user_bids_median</th>\n",
       "      <th>time_delta_user_bids_kurtosis</th>\n",
       "      <th>bids_with_bot_ip</th>\n",
       "      <th>total_bids</th>\n",
       "      <th>ip_shared_with_bots</th>\n",
       "      <th>unique_ip</th>\n",
       "      <th>avg_bids_per_url</th>\n",
       "      <th>device_bids_count</th>\n",
       "      <th>device_bids_mean</th>\n",
       "      <th>device_bids_std</th>\n",
       "      <th>device_bids_min</th>\n",
       "      <th>device_bids_25%</th>\n",
       "      <th>device_bids_50%</th>\n",
       "      <th>device_bids_75%</th>\n",
       "      <th>device_bids_max</th>\n",
       "      <th>time_delta_auction_user_bids_mean</th>\n",
       "      <th>time_delta_auction_user_bids_std</th>\n",
       "      <th>time_delta_auction_user_bids_min</th>\n",
       "      <th>time_delta_auction_user_bids_25%</th>\n",
       "      <th>time_delta_auction_user_bids_50%</th>\n",
       "      <th>time_delta_auction_user_bids_75%</th>\n",
       "      <th>time_delta_auction_user_bids_max</th>\n",
       "      <th>first_bid_over_total_bids</th>\n",
       "      <th>win_bid_over_total_bids</th>\n",
       "      <th>outcome</th>\n",
       "    </tr>\n",
       "  </thead>\n",
       "  <tbody>\n",
       "    <tr>\n",
       "      <th>0</th>\n",
       "      <td>668d393e858e8126275433046bbd35c6tywop</td>\n",
       "      <td>3.455380</td>\n",
       "      <td>4.189127</td>\n",
       "      <td>0.000000</td>\n",
       "      <td>0.842105</td>\n",
       "      <td>2.210526</td>\n",
       "      <td>4.526316</td>\n",
       "      <td>70.315789</td>\n",
       "      <td>2.210526</td>\n",
       "      <td>28.351440</td>\n",
       "      <td>0.682536</td>\n",
       "      <td>0.833721</td>\n",
       "      <td>0.0</td>\n",
       "      <td>0.157895</td>\n",
       "      <td>0.421053</td>\n",
       "      <td>0.894737</td>\n",
       "      <td>10.315789</td>\n",
       "      <td>0.421053</td>\n",
       "      <td>16.296545</td>\n",
       "      <td>9752</td>\n",
       "      <td>19988</td>\n",
       "      <td>1738</td>\n",
       "      <td>10316</td>\n",
       "      <td>4.415286</td>\n",
       "      <td>1029.0</td>\n",
       "      <td>19.424684</td>\n",
       "      <td>126.555472</td>\n",
       "      <td>1.0</td>\n",
       "      <td>1.0</td>\n",
       "      <td>3.0</td>\n",
       "      <td>9.0</td>\n",
       "      <td>3753.0</td>\n",
       "      <td>19.424684</td>\n",
       "      <td>126.555472</td>\n",
       "      <td>1.0</td>\n",
       "      <td>1.0</td>\n",
       "      <td>3.0</td>\n",
       "      <td>9.0</td>\n",
       "      <td>3753.0</td>\n",
       "      <td>0.009306</td>\n",
       "      <td>0.009356</td>\n",
       "      <td>0.0</td>\n",
       "    </tr>\n",
       "    <tr>\n",
       "      <th>1</th>\n",
       "      <td>e8291466de91b0eb4e1515143c7f74dexy2yr</td>\n",
       "      <td>6.064759</td>\n",
       "      <td>8.628476</td>\n",
       "      <td>0.000000</td>\n",
       "      <td>1.421053</td>\n",
       "      <td>3.526316</td>\n",
       "      <td>7.526316</td>\n",
       "      <td>137.315789</td>\n",
       "      <td>3.526316</td>\n",
       "      <td>52.546345</td>\n",
       "      <td>0.453802</td>\n",
       "      <td>0.565775</td>\n",
       "      <td>0.0</td>\n",
       "      <td>0.105263</td>\n",
       "      <td>0.263158</td>\n",
       "      <td>0.578947</td>\n",
       "      <td>14.052632</td>\n",
       "      <td>0.263158</td>\n",
       "      <td>26.490827</td>\n",
       "      <td>7597</td>\n",
       "      <td>30062</td>\n",
       "      <td>1916</td>\n",
       "      <td>20492</td>\n",
       "      <td>101.905085</td>\n",
       "      <td>403.0</td>\n",
       "      <td>74.595533</td>\n",
       "      <td>298.915257</td>\n",
       "      <td>1.0</td>\n",
       "      <td>1.0</td>\n",
       "      <td>3.0</td>\n",
       "      <td>12.5</td>\n",
       "      <td>4047.0</td>\n",
       "      <td>74.595533</td>\n",
       "      <td>298.915257</td>\n",
       "      <td>1.0</td>\n",
       "      <td>1.0</td>\n",
       "      <td>3.0</td>\n",
       "      <td>12.5</td>\n",
       "      <td>4047.0</td>\n",
       "      <td>0.004324</td>\n",
       "      <td>0.004690</td>\n",
       "      <td>0.0</td>\n",
       "    </tr>\n",
       "    <tr>\n",
       "      <th>2</th>\n",
       "      <td>a58ace8b671a7531c88814bc86b2a34cf0crb</td>\n",
       "      <td>44.098620</td>\n",
       "      <td>82.762948</td>\n",
       "      <td>0.052632</td>\n",
       "      <td>4.684211</td>\n",
       "      <td>14.000000</td>\n",
       "      <td>45.263158</td>\n",
       "      <td>832.368421</td>\n",
       "      <td>14.000000</td>\n",
       "      <td>32.037707</td>\n",
       "      <td>0.070843</td>\n",
       "      <td>0.102856</td>\n",
       "      <td>0.0</td>\n",
       "      <td>0.000000</td>\n",
       "      <td>0.052632</td>\n",
       "      <td>0.105263</td>\n",
       "      <td>3.157895</td>\n",
       "      <td>0.052632</td>\n",
       "      <td>48.097035</td>\n",
       "      <td>123814</td>\n",
       "      <td>192565</td>\n",
       "      <td>2639</td>\n",
       "      <td>53405</td>\n",
       "      <td>5.273153</td>\n",
       "      <td>2020.0</td>\n",
       "      <td>95.329208</td>\n",
       "      <td>726.211904</td>\n",
       "      <td>1.0</td>\n",
       "      <td>2.0</td>\n",
       "      <td>5.5</td>\n",
       "      <td>27.0</td>\n",
       "      <td>26560.0</td>\n",
       "      <td>95.329208</td>\n",
       "      <td>726.211904</td>\n",
       "      <td>1.0</td>\n",
       "      <td>2.0</td>\n",
       "      <td>5.5</td>\n",
       "      <td>27.0</td>\n",
       "      <td>26560.0</td>\n",
       "      <td>0.001916</td>\n",
       "      <td>0.002088</td>\n",
       "      <td>0.0</td>\n",
       "    </tr>\n",
       "    <tr>\n",
       "      <th>3</th>\n",
       "      <td>7e34a26c4c339e875997f4b9239d2b5fscng4</td>\n",
       "      <td>6.856177</td>\n",
       "      <td>9.265117</td>\n",
       "      <td>0.000000</td>\n",
       "      <td>1.894737</td>\n",
       "      <td>4.157895</td>\n",
       "      <td>8.526316</td>\n",
       "      <td>104.052632</td>\n",
       "      <td>4.157895</td>\n",
       "      <td>33.984406</td>\n",
       "      <td>1.497714</td>\n",
       "      <td>2.715410</td>\n",
       "      <td>0.0</td>\n",
       "      <td>0.315789</td>\n",
       "      <td>0.736842</td>\n",
       "      <td>1.736842</td>\n",
       "      <td>77.210526</td>\n",
       "      <td>0.736842</td>\n",
       "      <td>174.020783</td>\n",
       "      <td>1834</td>\n",
       "      <td>9108</td>\n",
       "      <td>363</td>\n",
       "      <td>6046</td>\n",
       "      <td>4.829268</td>\n",
       "      <td>367.0</td>\n",
       "      <td>24.817439</td>\n",
       "      <td>125.091734</td>\n",
       "      <td>1.0</td>\n",
       "      <td>1.0</td>\n",
       "      <td>3.0</td>\n",
       "      <td>11.0</td>\n",
       "      <td>2176.0</td>\n",
       "      <td>24.817439</td>\n",
       "      <td>125.091734</td>\n",
       "      <td>1.0</td>\n",
       "      <td>1.0</td>\n",
       "      <td>3.0</td>\n",
       "      <td>11.0</td>\n",
       "      <td>2176.0</td>\n",
       "      <td>0.000878</td>\n",
       "      <td>0.000988</td>\n",
       "      <td>0.0</td>\n",
       "    </tr>\n",
       "    <tr>\n",
       "      <th>4</th>\n",
       "      <td>6c8ffec692e88d81e1b18d47818abb04v6llr</td>\n",
       "      <td>234.925590</td>\n",
       "      <td>353.486612</td>\n",
       "      <td>1.000000</td>\n",
       "      <td>38.263158</td>\n",
       "      <td>121.947368</td>\n",
       "      <td>285.934211</td>\n",
       "      <td>1796.947368</td>\n",
       "      <td>121.947368</td>\n",
       "      <td>9.267263</td>\n",
       "      <td>0.161788</td>\n",
       "      <td>0.203371</td>\n",
       "      <td>0.0</td>\n",
       "      <td>0.052632</td>\n",
       "      <td>0.105263</td>\n",
       "      <td>0.210526</td>\n",
       "      <td>3.052632</td>\n",
       "      <td>0.105263</td>\n",
       "      <td>16.690454</td>\n",
       "      <td>53392</td>\n",
       "      <td>84319</td>\n",
       "      <td>2572</td>\n",
       "      <td>27560</td>\n",
       "      <td>6.284958</td>\n",
       "      <td>1610.0</td>\n",
       "      <td>52.372050</td>\n",
       "      <td>487.799808</td>\n",
       "      <td>1.0</td>\n",
       "      <td>1.0</td>\n",
       "      <td>4.0</td>\n",
       "      <td>16.0</td>\n",
       "      <td>18438.0</td>\n",
       "      <td>52.372050</td>\n",
       "      <td>487.799808</td>\n",
       "      <td>1.0</td>\n",
       "      <td>1.0</td>\n",
       "      <td>4.0</td>\n",
       "      <td>16.0</td>\n",
       "      <td>18438.0</td>\n",
       "      <td>0.004115</td>\n",
       "      <td>0.004186</td>\n",
       "      <td>0.0</td>\n",
       "    </tr>\n",
       "  </tbody>\n",
       "</table>\n",
       "</div>"
      ],
      "text/plain": [
       "                               bidder_id  time_delta_auction_bids_mean  \\\n",
       "0  668d393e858e8126275433046bbd35c6tywop                      3.455380   \n",
       "1  e8291466de91b0eb4e1515143c7f74dexy2yr                      6.064759   \n",
       "2  a58ace8b671a7531c88814bc86b2a34cf0crb                     44.098620   \n",
       "3  7e34a26c4c339e875997f4b9239d2b5fscng4                      6.856177   \n",
       "4  6c8ffec692e88d81e1b18d47818abb04v6llr                    234.925590   \n",
       "\n",
       "   time_delta_auction_bids_std  time_delta_auction_bids_min  \\\n",
       "0                     4.189127                     0.000000   \n",
       "1                     8.628476                     0.000000   \n",
       "2                    82.762948                     0.052632   \n",
       "3                     9.265117                     0.000000   \n",
       "4                   353.486612                     1.000000   \n",
       "\n",
       "   time_delta_auction_bids_25%  time_delta_auction_bids_50%  \\\n",
       "0                     0.842105                     2.210526   \n",
       "1                     1.421053                     3.526316   \n",
       "2                     4.684211                    14.000000   \n",
       "3                     1.894737                     4.157895   \n",
       "4                    38.263158                   121.947368   \n",
       "\n",
       "   time_delta_auction_bids_75%  time_delta_auction_bids_max  \\\n",
       "0                     4.526316                    70.315789   \n",
       "1                     7.526316                   137.315789   \n",
       "2                    45.263158                   832.368421   \n",
       "3                     8.526316                   104.052632   \n",
       "4                   285.934211                  1796.947368   \n",
       "\n",
       "   time_delta_bids_in_auction_median  time_delta_bids_in_auction_kurtosis  \\\n",
       "0                           2.210526                            28.351440   \n",
       "1                           3.526316                            52.546345   \n",
       "2                          14.000000                            32.037707   \n",
       "3                           4.157895                            33.984406   \n",
       "4                         121.947368                             9.267263   \n",
       "\n",
       "   time_delta_user_bids_mean  time_delta_user_bids_std  \\\n",
       "0                   0.682536                  0.833721   \n",
       "1                   0.453802                  0.565775   \n",
       "2                   0.070843                  0.102856   \n",
       "3                   1.497714                  2.715410   \n",
       "4                   0.161788                  0.203371   \n",
       "\n",
       "   time_delta_user_bids_min  time_delta_user_bids_25%  \\\n",
       "0                       0.0                  0.157895   \n",
       "1                       0.0                  0.105263   \n",
       "2                       0.0                  0.000000   \n",
       "3                       0.0                  0.315789   \n",
       "4                       0.0                  0.052632   \n",
       "\n",
       "   time_delta_user_bids_50%  time_delta_user_bids_75%  \\\n",
       "0                  0.421053                  0.894737   \n",
       "1                  0.263158                  0.578947   \n",
       "2                  0.052632                  0.105263   \n",
       "3                  0.736842                  1.736842   \n",
       "4                  0.105263                  0.210526   \n",
       "\n",
       "   time_delta_user_bids_max  time_delta_user_bids_median  \\\n",
       "0                 10.315789                     0.421053   \n",
       "1                 14.052632                     0.263158   \n",
       "2                  3.157895                     0.052632   \n",
       "3                 77.210526                     0.736842   \n",
       "4                  3.052632                     0.105263   \n",
       "\n",
       "   time_delta_user_bids_kurtosis  bids_with_bot_ip  total_bids  \\\n",
       "0                      16.296545              9752       19988   \n",
       "1                      26.490827              7597       30062   \n",
       "2                      48.097035            123814      192565   \n",
       "3                     174.020783              1834        9108   \n",
       "4                      16.690454             53392       84319   \n",
       "\n",
       "   ip_shared_with_bots  unique_ip  avg_bids_per_url  device_bids_count  \\\n",
       "0                 1738      10316          4.415286             1029.0   \n",
       "1                 1916      20492        101.905085              403.0   \n",
       "2                 2639      53405          5.273153             2020.0   \n",
       "3                  363       6046          4.829268              367.0   \n",
       "4                 2572      27560          6.284958             1610.0   \n",
       "\n",
       "   device_bids_mean  device_bids_std  device_bids_min  device_bids_25%  \\\n",
       "0         19.424684       126.555472              1.0              1.0   \n",
       "1         74.595533       298.915257              1.0              1.0   \n",
       "2         95.329208       726.211904              1.0              2.0   \n",
       "3         24.817439       125.091734              1.0              1.0   \n",
       "4         52.372050       487.799808              1.0              1.0   \n",
       "\n",
       "   device_bids_50%  device_bids_75%  device_bids_max  \\\n",
       "0              3.0              9.0           3753.0   \n",
       "1              3.0             12.5           4047.0   \n",
       "2              5.5             27.0          26560.0   \n",
       "3              3.0             11.0           2176.0   \n",
       "4              4.0             16.0          18438.0   \n",
       "\n",
       "   time_delta_auction_user_bids_mean  time_delta_auction_user_bids_std  \\\n",
       "0                          19.424684                        126.555472   \n",
       "1                          74.595533                        298.915257   \n",
       "2                          95.329208                        726.211904   \n",
       "3                          24.817439                        125.091734   \n",
       "4                          52.372050                        487.799808   \n",
       "\n",
       "   time_delta_auction_user_bids_min  time_delta_auction_user_bids_25%  \\\n",
       "0                               1.0                               1.0   \n",
       "1                               1.0                               1.0   \n",
       "2                               1.0                               2.0   \n",
       "3                               1.0                               1.0   \n",
       "4                               1.0                               1.0   \n",
       "\n",
       "   time_delta_auction_user_bids_50%  time_delta_auction_user_bids_75%  \\\n",
       "0                               3.0                               9.0   \n",
       "1                               3.0                              12.5   \n",
       "2                               5.5                              27.0   \n",
       "3                               3.0                              11.0   \n",
       "4                               4.0                              16.0   \n",
       "\n",
       "   time_delta_auction_user_bids_max  first_bid_over_total_bids  \\\n",
       "0                            3753.0                   0.009306   \n",
       "1                            4047.0                   0.004324   \n",
       "2                           26560.0                   0.001916   \n",
       "3                            2176.0                   0.000878   \n",
       "4                           18438.0                   0.004115   \n",
       "\n",
       "   win_bid_over_total_bids  outcome  \n",
       "0                 0.009356      0.0  \n",
       "1                 0.004690      0.0  \n",
       "2                 0.002088      0.0  \n",
       "3                 0.000988      0.0  \n",
       "4                 0.004186      0.0  "
      ]
     },
     "execution_count": 4,
     "metadata": {},
     "output_type": "execute_result"
    }
   ],
   "source": [
    "df_train.head()"
   ]
  },
  {
   "cell_type": "markdown",
   "metadata": {},
   "source": [
    "## Random Forest Example"
   ]
  },
  {
   "cell_type": "code",
   "execution_count": 5,
   "metadata": {
    "collapsed": true
   },
   "outputs": [],
   "source": [
    "# Set random seed\n",
    "np.random.seed(0)"
   ]
  },
  {
   "cell_type": "code",
   "execution_count": 6,
   "metadata": {},
   "outputs": [
    {
     "data": {
      "text/plain": [
       "RandomForestClassifier(bootstrap=True, class_weight=None, criterion='gini',\n",
       "            max_depth=None, max_features='auto', max_leaf_nodes=None,\n",
       "            min_impurity_split=1e-07, min_samples_leaf=1,\n",
       "            min_samples_split=2, min_weight_fraction_leaf=0.0,\n",
       "            n_estimators=10, n_jobs=1000, oob_score=False, random_state=0,\n",
       "            verbose=0, warm_start=False)"
      ]
     },
     "execution_count": 6,
     "metadata": {},
     "output_type": "execute_result"
    }
   ],
   "source": [
    "# Create a random forest Classifier. By convention, clf means 'Classifier'\n",
    "clf = RandomForestClassifier(n_jobs=1000, random_state=0)\n",
    "\n",
    "X_train = df_train.drop(['outcome', 'bidder_id'], axis=1)\n",
    "y_train = df_train['outcome']\n",
    "\n",
    "\n",
    "clf.fit(X_train, y_train)"
   ]
  },
  {
   "cell_type": "code",
   "execution_count": 7,
   "metadata": {},
   "outputs": [
    {
     "data": {
      "text/plain": [
       "((1984, 40), (1984,))"
      ]
     },
     "execution_count": 7,
     "metadata": {},
     "output_type": "execute_result"
    }
   ],
   "source": [
    "X_train.shape, y_train.shape"
   ]
  },
  {
   "cell_type": "markdown",
   "metadata": {},
   "source": [
    "## On Training"
   ]
  },
  {
   "cell_type": "code",
   "execution_count": 8,
   "metadata": {
    "scrolled": true
   },
   "outputs": [
    {
     "data": {
      "text/plain": [
       "0.99647177419354838"
      ]
     },
     "execution_count": 8,
     "metadata": {},
     "output_type": "execute_result"
    }
   ],
   "source": [
    "y_predict = clf.predict(X_train)\n",
    "\n",
    "accuracy_score(y_train, y_predict)"
   ]
  },
  {
   "cell_type": "markdown",
   "metadata": {},
   "source": [
    "## On Testing"
   ]
  },
  {
   "cell_type": "code",
   "execution_count": 9,
   "metadata": {
    "collapsed": true
   },
   "outputs": [],
   "source": [
    "X_test = df_test.drop(['bidder_id'], axis=1)\n",
    "\n",
    "y_predict = clf.predict(X_test)\n",
    "\n",
    "X_id = df_test['bidder_id']"
   ]
  },
  {
   "cell_type": "code",
   "execution_count": null,
   "metadata": {
    "collapsed": true
   },
   "outputs": [],
   "source": []
  },
  {
   "cell_type": "code",
   "execution_count": 10,
   "metadata": {
    "collapsed": true
   },
   "outputs": [],
   "source": [
    "result_map = {}\n",
    "\n",
    "for i in range(len(y_predict)):\n",
    "\n",
    "    result_map[X_id[i]] = y_predict[i]"
   ]
  },
  {
   "cell_type": "code",
   "execution_count": 11,
   "metadata": {},
   "outputs": [],
   "source": [
    "df_test_order['prediction'] = 0\n",
    "df_test_order = df_test_order[['bidder_id', 'prediction']]"
   ]
  },
  {
   "cell_type": "markdown",
   "metadata": {},
   "source": [
    "## Submition requires 4700 entries, have to add entries with missing data"
   ]
  },
  {
   "cell_type": "code",
   "execution_count": 12,
   "metadata": {},
   "outputs": [],
   "source": [
    "for bidder_id in result_map:\n",
    "    df_test_order.loc[df_test_order['bidder_id'] == bidder_id, 'prediction'] = result_map[bidder_id]"
   ]
  },
  {
   "cell_type": "code",
   "execution_count": 13,
   "metadata": {},
   "outputs": [
    {
     "data": {
      "text/plain": [
       "(4700, 2)"
      ]
     },
     "execution_count": 13,
     "metadata": {},
     "output_type": "execute_result"
    }
   ],
   "source": [
    "df_test_order.shape"
   ]
  },
  {
   "cell_type": "code",
   "execution_count": 14,
   "metadata": {
    "collapsed": true
   },
   "outputs": [],
   "source": [
    "df_test_order.to_csv('predictions/submission_1.csv', index=None)"
   ]
  }
 ],
 "metadata": {
  "kernelspec": {
   "display_name": "Python [conda root]",
   "language": "python",
   "name": "conda-root-py"
  },
  "language_info": {
   "codemirror_mode": {
    "name": "ipython",
    "version": 3
   },
   "file_extension": ".py",
   "mimetype": "text/x-python",
   "name": "python",
   "nbconvert_exporter": "python",
   "pygments_lexer": "ipython3",
   "version": "3.6.1"
  }
 },
 "nbformat": 4,
 "nbformat_minor": 2
}
